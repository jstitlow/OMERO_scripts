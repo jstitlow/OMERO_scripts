{
 "cells": [
  {
   "cell_type": "code",
   "execution_count": 1,
   "metadata": {},
   "outputs": [
    {
     "ename": "ImportError",
     "evalue": "No module named omero",
     "output_type": "error",
     "traceback": [
      "\u001b[0;31m---------------------------------------------------------------------------\u001b[0m",
      "\u001b[0;31mImportError\u001b[0m                               Traceback (most recent call last)",
      "\u001b[0;32m<ipython-input-1-8c8e80ea03d6>\u001b[0m in \u001b[0;36m<module>\u001b[0;34m()\u001b[0m\n\u001b[0;32m----> 1\u001b[0;31m \u001b[0;32mimport\u001b[0m \u001b[0momero\u001b[0m\u001b[0;34m\u001b[0m\u001b[0m\n\u001b[0m\u001b[1;32m      2\u001b[0m \u001b[0;32mfrom\u001b[0m \u001b[0momero\u001b[0m\u001b[0;34m.\u001b[0m\u001b[0mgateway\u001b[0m \u001b[0;32mimport\u001b[0m \u001b[0mBlitzGateway\u001b[0m\u001b[0;34m\u001b[0m\u001b[0m\n\u001b[1;32m      3\u001b[0m \u001b[0;32mimport\u001b[0m \u001b[0mos\u001b[0m\u001b[0;34m\u001b[0m\u001b[0m\n\u001b[1;32m      4\u001b[0m \u001b[0;32mimport\u001b[0m \u001b[0mgetpass\u001b[0m\u001b[0;34m\u001b[0m\u001b[0m\n\u001b[1;32m      5\u001b[0m \u001b[0;32mimport\u001b[0m \u001b[0mthreading\u001b[0m\u001b[0;34m\u001b[0m\u001b[0m\n",
      "\u001b[0;31mImportError\u001b[0m: No module named omero"
     ]
    }
   ],
   "source": [
    "import omero\n",
    "from omero.gateway import BlitzGateway\n",
    "import os\n",
    "import getpass\n",
    "import threading\n",
    "import time\n",
    "\n",
    "\n",
    "# initialise OMERO\n",
    "#USER = getpass.getuser()\n",
    "USER = 'bioc1301'\n",
    "print 'username: ', USER\n",
    "PASS = getpass.getpass('Enter password:')\n",
    "HOST='omero1.bioch.ox.ac.uk'\n",
    "\n",
    "conn = BlitzGateway(USER, PASS, host=HOST, port=4064)\n",
    "conn.connect()\n",
    "conn.SERVICE_OPTS.setOmeroGroup(-1)\n",
    "\n",
    "print 'login successful'\n",
    "dataset_id = input ('Enter dataset ID:')\n",
    "# keep connection to OMERO alive\n",
    "def keep_connection_alive():\n",
    "    while True:\n",
    "        conn.keepAlive()\n",
    "        time.sleep(60)\n",
    "\n",
    "th_ka = threading.Thread(target = keep_connection_alive)\n",
    "th_ka.daemon = True\n",
    "th_ka.start()\n",
    "\n",
    "# Pixels and Channels will be loaded automatically as needed\n",
    "image = conn.getObject(\"Image\", imageId)\n",
    "print image.getName(), image.getDescription()\n",
    "\n",
    "# List Channels (loads the Rendering settings to get channel colors)\n",
    "for channel in image.getChannels():\n",
    "    print 'Channel:', channel.getLabel(),\n",
    "    print 'Color:', channel.getColor().getRGB()\n",
    "    print 'Lookup table:', channel.getLut()\n",
    "    print 'Is reverse intensity?', channel.isReverseIntensity()"
   ]
  },
  {
   "cell_type": "code",
   "execution_count": null,
   "metadata": {},
   "outputs": [],
   "source": []
  }
 ],
 "metadata": {
  "kernelspec": {
   "display_name": "Python [conda root]",
   "language": "python",
   "name": "conda-root-py"
  },
  "language_info": {
   "codemirror_mode": {
    "name": "ipython",
    "version": 2
   },
   "file_extension": ".py",
   "mimetype": "text/x-python",
   "name": "python",
   "nbconvert_exporter": "python",
   "pygments_lexer": "ipython2",
   "version": "2.7.3"
  }
 },
 "nbformat": 4,
 "nbformat_minor": 2
}
