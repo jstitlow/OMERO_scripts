{
 "cells": [
  {
   "cell_type": "code",
   "execution_count": 72,
   "metadata": {},
   "outputs": [
    {
     "name": "stdout",
     "output_type": "stream",
     "text": [
      "    old_imageIds old_json\n",
      "0         170827  2110689\n",
      "2         153736  2110689\n",
      "7         283965  2110689\n",
      "10        151103  2110708\n",
      "18        151229  2110710\n",
      "Empty DataFrame\n",
      "Columns: [missing_json]\n",
      "Index: []\n",
      "  broken_figs\n",
      "0     2110855\n",
      "1     2119346\n"
     ]
    }
   ],
   "source": [
    "#####################################################################################\n",
    "# Extract imageID from OMEROfigure json file\n",
    "#\n",
    "# --- Requires list of json IDs and/or directory of json files\n",
    "#\n",
    "# -\n",
    "\n",
    "import pandas as pd\n",
    "import json\n",
    "import os\n",
    "\n",
    "# get json files\n",
    "indir = '/Volumes/bioc1301/src/Zegami_scripts/Zegami_collection_27_Feb_2019/figures/'\n",
    "#indir = '/Volumes/bioc1301/src/OMERO_scripts/test/'\n",
    "\n",
    "#json_files = [indir+file for file in os.listdir(indir) if file.endswith('.json')]\n",
    "figure_IDs = '/Volumes/bioc1301/src/OMERO_scripts/test/NMJ_figureIDs.csv'\n",
    "figure_IDs = open(figure_IDs).read().splitlines()\n",
    "\n",
    "# instantiate a list to store image filenames and broken figures\n",
    "image_list = []\n",
    "broken_figures = []\n",
    "json_list = []\n",
    "missing_json = []\n",
    "    \n",
    "for figID in figure_IDs:\n",
    "    try:\n",
    "        jsonfile = os.path.join(indir, figID+\".json\")\n",
    "    except:\n",
    "        missing_json.append(figID) \n",
    "        pass\n",
    "    try:\n",
    "        with open(jsonfile) as datafile:  \n",
    "            data = json.load(datafile)\n",
    "            for i in data['panels']:\n",
    "                image_list.append(i['imageId'])\n",
    "                json_list.append(figID)\n",
    "    except:\n",
    "        broken_figures.append(figID)\n",
    "        pass\n",
    "\n",
    "df = pd.DataFrame({'old_imageIds':image_list, 'old_json':json_list})\n",
    "df = df[['old_imageIds', 'old_json']]\n",
    "df = df.drop_duplicates(['old_imageIds'])\n",
    "print df.head()\n",
    "df.to_csv(os.path.join(indir,'NMJ_imageID_json.csv'), index=True)\n",
    "df1 = pd.DataFrame({'missing_json':missing_json})\n",
    "df2 = pd.DataFrame({'broken_figs':broken_figures})\n",
    "df1 = df1[['missing_json']]\n",
    "df2 = df2[['broken_figs']]\n",
    "print df1\n",
    "print df2\n",
    "#errors = errors(['missing_json', 'broken_figs'])\n",
    "#errors.to_csv(os.path.join(indir,'errors.csv'), index=True)"
   ]
  },
  {
   "cell_type": "code",
   "execution_count": null,
   "metadata": {},
   "outputs": [],
   "source": [
    "#with open(\"broken_figures.txt\", \"w\") as output:\n",
    "#    output.write(str(broken_figures))"
   ]
  },
  {
   "cell_type": "code",
   "execution_count": 80,
   "metadata": {},
   "outputs": [
    {
     "data": {
      "text/plain": [
       "0    2110855\n",
       "1    2119346\n",
       "Name: broken_figs, dtype: object"
      ]
     },
     "execution_count": 80,
     "metadata": {},
     "output_type": "execute_result"
    }
   ],
   "source": [
    "test = pd.DataFrame['/Volumes/bioc1301/src/OMERO_scripts/test/NMJ_figureIDs.csv']"
   ]
  },
  {
   "cell_type": "code",
   "execution_count": null,
   "metadata": {},
   "outputs": [],
   "source": []
  }
 ],
 "metadata": {
  "kernelspec": {
   "display_name": "Python [conda env:anaconda]",
   "language": "python",
   "name": "conda-env-anaconda-py"
  },
  "language_info": {
   "codemirror_mode": {
    "name": "ipython",
    "version": 2
   },
   "file_extension": ".py",
   "mimetype": "text/x-python",
   "name": "python",
   "nbconvert_exporter": "python",
   "pygments_lexer": "ipython2",
   "version": "2.7.3"
  }
 },
 "nbformat": 4,
 "nbformat_minor": 2
}
