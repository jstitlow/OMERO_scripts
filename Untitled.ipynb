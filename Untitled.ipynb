{
 "cells": [
  {
   "cell_type": "code",
   "execution_count": 2,
   "metadata": {},
   "outputs": [
    {
     "name": "stdout",
     "output_type": "stream",
     "text": [
      "2110842\n",
      "2110843\n",
      "2110844\n"
     ]
    }
   ],
   "source": [
    "import pandas as pd\n",
    "\n",
    "fig_IDs = pd.read_csv('fig_IDs.csv')\n",
    "for ID in fig_IDs['fig_ID']:\n",
    "    print ID\n",
    "\n"
   ]
  },
  {
   "cell_type": "code",
   "execution_count": null,
   "metadata": {},
   "outputs": [],
   "source": [
    "import xml.etree.ElementTree as ET  \n",
    "tree = ET.parse('items.xml')  \n",
    "root = tree.getroot()\n",
    "\n",
    "# one specific item attribute\n",
    "print('Item #2 attribute:')  \n",
    "print(root[0][1].attrib)\n",
    "\n",
    "# all item attributes\n",
    "#print('\\nAll attributes:')  \n",
    "for elem in root:  \n",
    "    for subelem in elem:\n",
    "        print(subelem.attrib)\n",
    "\n",
    "# one specific item's data\n",
    "print('\\nItem #2 data:')  \n",
    "print(root[0][1].text)\n",
    "\n",
    "# all items data\n",
    "print('\\nAll item data:')  \n",
    "for elem in root:  \n",
    "    for subelem in elem:\n",
    "        print(subelem.text)"
   ]
  },
  {
   "cell_type": "code",
   "execution_count": 9,
   "metadata": {},
   "outputs": [
    {
     "ename": "ImportError",
     "evalue": "No module named objectpath",
     "output_type": "error",
     "traceback": [
      "\u001b[0;31m---------------------------------------------------------------------------\u001b[0m",
      "\u001b[0;31mImportError\u001b[0m                               Traceback (most recent call last)",
      "\u001b[0;32m<ipython-input-9-e7dddbb620f8>\u001b[0m in \u001b[0;36m<module>\u001b[0;34m()\u001b[0m\n\u001b[1;32m      1\u001b[0m \u001b[0;32mimport\u001b[0m \u001b[0mjson\u001b[0m\u001b[0;34m\u001b[0m\u001b[0m\n\u001b[0;32m----> 2\u001b[0;31m \u001b[0;32mimport\u001b[0m \u001b[0mobjectpath\u001b[0m\u001b[0;34m\u001b[0m\u001b[0m\n\u001b[0m\u001b[1;32m      3\u001b[0m \u001b[0;34m\u001b[0m\u001b[0m\n\u001b[1;32m      4\u001b[0m \u001b[0;32mwith\u001b[0m \u001b[0mopen\u001b[0m\u001b[0;34m(\u001b[0m\u001b[0;34m\"/Volumes/bioc1301/src/OMERO_scripts/2106050.json\"\u001b[0m\u001b[0;34m)\u001b[0m \u001b[0;32mas\u001b[0m \u001b[0mdatafile\u001b[0m\u001b[0;34m:\u001b[0m\u001b[0;34m\u001b[0m\u001b[0m\n\u001b[1;32m      5\u001b[0m     \u001b[0mdata\u001b[0m \u001b[0;34m=\u001b[0m \u001b[0mjson\u001b[0m\u001b[0;34m.\u001b[0m\u001b[0mload\u001b[0m\u001b[0;34m(\u001b[0m\u001b[0mdatafile\u001b[0m\u001b[0;34m)\u001b[0m\u001b[0;34m\u001b[0m\u001b[0m\n",
      "\u001b[0;31mImportError\u001b[0m: No module named objectpath"
     ]
    }
   ],
   "source": [
    "import json\n",
    "import objectpath\n",
    "\n",
    "with open(\"/Volumes/bioc1301/src/OMERO_scripts/2106050.json\") as datafile:    \n",
    "    data = json.load(datafile)\n",
    "    json_tree = objectpath.Tree(data['panels'])\n",
    "    imageId = tuple(json_tree.execute('$..imageId'))\n",
    "    print imageId"
   ]
  },
  {
   "cell_type": "code",
   "execution_count": 54,
   "metadata": {},
   "outputs": [],
   "source": [
    "import json\n",
    "import os\n",
    "\n",
    "# get json files\n",
    "indir = '/Volumes/bioc1301/src/Zegami_scripts/Zegami_collection_27_Feb_2019/figures/'\n",
    "indir = '/Volumes/bioc1301/src/OMERO_scripts/test/'\n",
    "json_files = [indir+file for file in os.listdir(indir) if file.endswith('.json')]\n",
    "\n",
    "# instantiate a list to store image filenames and broken figures\n",
    "image_list = []\n",
    "broken_figures = []\n",
    "\n",
    "for figure in json_files:\n",
    "    #print 'Retrieving images from figure:', figure\n",
    "    with open(figure) as datafile:    \n",
    "        data = json.load(datafile)\n",
    "        try:\n",
    "            for i in data['panels']:\n",
    "                image_list.append(i['imageId'])\n",
    "        except:\n",
    "            broken_figures.append(figure)\n",
    "            pass\n",
    "\n",
    "with open(\"broken_figures.txt\", \"w\") as output:\n",
    "    output.write(str(broken_figures))"
   ]
  },
  {
   "cell_type": "code",
   "execution_count": 45,
   "metadata": {},
   "outputs": [
    {
     "name": "stdout",
     "output_type": "stream",
     "text": [
      "set([172032, 283990, 434203, 434205, 172063, 434208, 434209, 434210, 434211, 434212, 434216, 434217, 172076, 172078, 579642, 579647, 579650, 579653, 172123, 148839, 520555, 194711, 243864, 194732, 172205, 194734, 504861, 194737, 194739, 504862, 194742, 194745, 217278, 504864, 172065, 504866, 245966, 245974, 204497, 278762, 278768, 278774, 278778, 217344, 172066, 173100, 172300, 217363, 172312, 170280, 172334, 193928, 170294, 172343, 170301, 172353, 170307, 170310, 317768, 317775, 239953, 298041, 317839, 172382, 317792, 520551, 520552, 520553, 520554, 317803, 239980, 239983, 317811, 317817, 172411, 240000, 317836, 287119, 317840, 317847, 317850, 287137, 287141, 317864, 317865, 287149, 293297, 293303, 317857, 172497, 195031, 195032, 172505, 195034, 195035, 172524, 392276, 172538, 172539, 523692, 172557, 392280, 392281, 392282, 172575, 172577, 170533, 170534, 492073, 172587, 172596, 311868, 311874, 311876, 492108, 492110, 172625, 492115, 402006, 402008, 402009, 492122, 402011, 172637, 402015, 402016, 270951, 414312, 270963, 318073, 270983, 172684, 270991, 318097, 318101, 270998, 271000, 172704, 318113, 172487, 172729, 504534, 195293, 504550, 504567, 172843, 504580, 172845, 244523, 172844, 244525, 172846, 278324, 172863, 291648, 172866, 172868, 172869, 172872, 170827, 404308, 297816, 297826, 598888, 598889, 297834, 297842, 297846, 172924, 172929, 508808, 170889, 508811, 508816, 508817, 508818, 244631, 521123, 521124, 521125, 521126, 521127, 521128, 521129, 521130, 521131, 521133, 521134, 521135, 521137, 521138, 521139, 521140, 521141, 195515, 195516, 195517, 195519, 195520, 195521, 195522, 195523, 195524, 506827, 527321, 173068, 194733, 193561, 240666, 240667, 240668, 240669, 240670, 504863, 173088, 240673, 240674, 240675, 240676, 240677, 240678, 240679, 240680, 240681, 240683, 240684, 240685, 240686, 240687, 240688, 240689, 240690, 298036, 298040, 173113, 494653, 410687, 250944, 173129, 250955, 194735, 494670, 414799, 278371, 494676, 250965, 392278, 494680, 494681, 250970, 392283, 173148, 494687, 278374, 494696, 494699, 171120, 494708, 242814, 242824, 172064, 242846, 371878, 371881, 170529, 173261, 173262, 173263, 173264, 148707, 170537, 249080, 148729, 173306, 216959, 173310, 249088, 249091, 171271, 148746, 310540, 249104, 310560, 310563, 283965, 193856, 278411, 148806, 206151, 193867, 193869, 193872, 193874, 288086, 556389, 556390, 198545, 556392, 556393, 556395, 193906, 193918, 193920, 193921, 193923, 193924, 193926, 193927, 173448, 173454, 173457, 173459, 173460, 173462, 173463, 173464, 173465, 173470, 173471, 278427, 523685, 173483, 173484, 173485, 173486, 173491, 169400, 173497, 173501, 171478, 171481, 170539, 284140, 310780, 310782, 171522, 310789, 149015, 196121, 171547, 402010, 151099, 151103, 149064, 151131, 204383, 291659, 194159, 171639, 194172, 171645, 194174, 171648, 149126, 198283, 409434, 149142, 171671, 171672, 171673, 540320, 421541, 421542, 421543, 421545, 421546, 421547, 421548, 421551, 421552, 421553, 421554, 317109, 317110, 151229, 317118, 497346, 497355, 497358, 497361, 204498, 204499, 204500, 204501, 204502, 204504, 149253, 278316, 149297, 149300, 250953, 149310, 278336, 208865, 318092, 278346, 278354, 278357, 409431, 409432, 409433, 278362, 409435, 409436, 409437, 409439, 409440, 409442, 409443, 409444, 216925, 216937, 278382, 278389, 216952, 278399, 278403, 216967, 198538, 198539, 278417, 193878, 278419, 172395, 149405, 194488, 194489, 194491, 194492, 194493, 194494, 194495, 194496, 194497, 194498, 194499, 194500, 194501, 208850, 208851, 208853, 208854, 208855, 208856, 208860, 208864, 283984, 194537, 288082, 149162])\n"
     ]
    }
   ],
   "source": [
    "print set(image_list)"
   ]
  },
  {
   "cell_type": "code",
   "execution_count": 55,
   "metadata": {},
   "outputs": [
    {
     "name": "stdout",
     "output_type": "stream",
     "text": [
      "['/Volumes/bioc1301/src/Zegami_scripts/Zegami_collection_27_Feb_2019/figures/2115429.json', '/Volumes/bioc1301/src/Zegami_scripts/Zegami_collection_27_Feb_2019/figures/2115428.json', '/Volumes/bioc1301/src/Zegami_scripts/Zegami_collection_27_Feb_2019/figures/2115427.json', '/Volumes/bioc1301/src/Zegami_scripts/Zegami_collection_27_Feb_2019/figures/2115426.json', '/Volumes/bioc1301/src/Zegami_scripts/Zegami_collection_27_Feb_2019/figures/2115435.json']\n"
     ]
    }
   ],
   "source": [
    "print broken_figures"
   ]
  },
  {
   "cell_type": "code",
   "execution_count": 43,
   "metadata": {},
   "outputs": [],
   "source": [
    "import json\n",
    "\n",
    "with open(\"/Volumes/bioc1301/src/OMERO_scripts/2106050.json\") as datafile:    \n",
    "    data = json.load(datafile)\n",
    "#with open(\"/Volumes/bioc1301/src/OMERO_scripts/2106050.json\") as datafile:\n",
    "    #print(json.dumps(data, indent=2))"
   ]
  },
  {
   "cell_type": "code",
   "execution_count": null,
   "metadata": {},
   "outputs": [],
   "source": []
  },
  {
   "cell_type": "code",
   "execution_count": null,
   "metadata": {},
   "outputs": [],
   "source": []
  }
 ],
 "metadata": {
  "kernelspec": {
   "display_name": "Python [conda env:anaconda]",
   "language": "python",
   "name": "conda-env-anaconda-py"
  },
  "language_info": {
   "codemirror_mode": {
    "name": "ipython",
    "version": 2
   },
   "file_extension": ".py",
   "mimetype": "text/x-python",
   "name": "python",
   "nbconvert_exporter": "python",
   "pygments_lexer": "ipython2",
   "version": "2.7.3"
  }
 },
 "nbformat": 4,
 "nbformat_minor": 2
}
